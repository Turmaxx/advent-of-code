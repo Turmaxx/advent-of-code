{
 "cells": [
  {
   "cell_type": "markdown",
   "metadata": {},
   "source": [
    "# [Day3](https://adventofcode.com/2022/day/3)"
   ]
  },
  {
   "cell_type": "code",
   "execution_count": 7,
   "metadata": {},
   "outputs": [],
   "source": [
    "def read():\n",
    "    with open(\"day3_input.txt\") as handle:\n",
    "        return list(filter(None, handle.read().split('\\n'))), 0"
   ]
  },
  {
   "cell_type": "code",
   "execution_count": 8,
   "metadata": {},
   "outputs": [],
   "source": [
    "def solution1():\n",
    "    # Part 1\n",
    "    rucksacks, priority_sum = read()\n",
    "    for rucksack in rucksacks: \n",
    "        compartment_a,compartment_b  = rucksack[:int(len(rucksack)/2)], rucksack[int(len(rucksack)/2):] \n",
    "        common_item = [i for i in compartment_a\n",
    "        if i in compartment_b][0] \n",
    "        priority_sum += ord(common_item) - (38 if common_item.isupper() else 96)\n",
    "\n",
    "    print(f\"The sum of priority item values is: {str(priority_sum)}\")"
   ]
  },
  {
   "cell_type": "code",
   "execution_count": 9,
   "metadata": {},
   "outputs": [],
   "source": [
    "def solution2():\n",
    "    # Part 2\n",
    "    rucksacks, groups_priority_sum = read()\n",
    "    for i in range(0, len(rucksacks), 3): \n",
    "        elf_group = rucksacks[i:i+3] \n",
    "        badge = [x for x in elf_group[0] if x in elf_group[1] and x in elf_group[2]][0] \n",
    "        groups_priority_sum += ord(badge) - (38 if badge.isupper() else 96)\n",
    "\n",
    "    print(f\"The sum of groups priority item values are: {str(groups_priority_sum)}\")"
   ]
  },
  {
   "cell_type": "code",
   "execution_count": 10,
   "metadata": {},
   "outputs": [
    {
     "name": "stdout",
     "output_type": "stream",
     "text": [
      "The sum of priority item values is: 7821\n",
      "The sum of groups priority item values are: 2752\n"
     ]
    }
   ],
   "source": [
    "if __name__ == \"__main__\":\n",
    "    solution1()\n",
    "    solution2()"
   ]
  }
 ],
 "metadata": {
  "kernelspec": {
   "display_name": "Python 3.10.6 64-bit",
   "language": "python",
   "name": "python3"
  },
  "language_info": {
   "codemirror_mode": {
    "name": "ipython",
    "version": 3
   },
   "file_extension": ".py",
   "mimetype": "text/x-python",
   "name": "python",
   "nbconvert_exporter": "python",
   "pygments_lexer": "ipython3",
   "version": "3.10.6"
  },
  "orig_nbformat": 4,
  "vscode": {
   "interpreter": {
    "hash": "916dbcbb3f70747c44a77c7bcd40155683ae19c65e1c03b4aa3499c5328201f1"
   }
  }
 },
 "nbformat": 4,
 "nbformat_minor": 2
}
