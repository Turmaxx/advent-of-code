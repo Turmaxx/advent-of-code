{
 "cells": [
  {
   "cell_type": "markdown",
   "metadata": {},
   "source": [
    "# [Day4](https://adventofcode.com/2022/day/4)"
   ]
  },
  {
   "cell_type": "code",
   "execution_count": 1,
   "metadata": {},
   "outputs": [],
   "source": [
    "class CampCleaner:\n",
    "    def __init__(self):\n",
    "        self.input = \"day4_input.txt\"\n",
    "        with open(self.input, 'r') as f:\n",
    "            sections_to_clean = [[range(int(sections.split('-')[0]), int(sections.split('-')[1]) + 1) for sections in line.split(',')]\n",
    "                                 for line in f]\n",
    "\n",
    "        self.groups = sections_to_clean\n",
    "\n",
    "    def part_one(self):\n",
    "        \"\"\"Count pairs of assignments where one range fully contains the other.\"\"\"\n",
    "        return sum(set(range_1).issubset(range_2) or set(range_2).issubset(range_1) for range_1, range_2 in self.groups)\n",
    "\n",
    "    def part_two(self):\n",
    "        \"\"\"Count pairs of assignments where both range overlap.\"\"\"\n",
    "        return sum(len(set(range_1).intersection(range_2)) > 0 for range_1, range_2 in self.groups)\n"
   ]
  },
  {
   "cell_type": "code",
   "execution_count": 2,
   "metadata": {},
   "outputs": [
    {
     "name": "stdout",
     "output_type": "stream",
     "text": [
      "Part One: 453\n",
      "Part Two: 919\n"
     ]
    }
   ],
   "source": [
    "\n",
    "if __name__ == '__main__':\n",
    "    print('Part One:', CampCleaner().part_one())\n",
    "    print('Part Two:', CampCleaner().part_two())"
   ]
  }
 ],
 "metadata": {
  "kernelspec": {
   "display_name": "Python 3.10.6 64-bit",
   "language": "python",
   "name": "python3"
  },
  "language_info": {
   "codemirror_mode": {
    "name": "ipython",
    "version": 3
   },
   "file_extension": ".py",
   "mimetype": "text/x-python",
   "name": "python",
   "nbconvert_exporter": "python",
   "pygments_lexer": "ipython3",
   "version": "3.10.6"
  },
  "orig_nbformat": 4,
  "vscode": {
   "interpreter": {
    "hash": "916dbcbb3f70747c44a77c7bcd40155683ae19c65e1c03b4aa3499c5328201f1"
   }
  }
 },
 "nbformat": 4,
 "nbformat_minor": 2
}
