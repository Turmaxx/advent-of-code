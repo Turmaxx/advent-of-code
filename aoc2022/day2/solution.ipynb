{
 "cells": [
  {
   "cell_type": "markdown",
   "metadata": {},
   "source": [
    "# [Day2](https://adventofcode.com/2022/day/2)"
   ]
  },
  {
   "cell_type": "code",
   "execution_count": 5,
   "metadata": {},
   "outputs": [],
   "source": [
    "ordered_scores_part1 = [\"BX\", \"CY\", \"AZ\", \"AX\", \"BY\", \"CZ\", \"CX\", \"AY\", \"BZ\"]\n",
    "ordered_scores_part2 = [\"BX\", \"CX\", \"AX\", \"AY\", \"BY\", \"CY\", \"CZ\", \"AZ\", \"BZ\"]\n",
    "\n",
    "def get_score(input_list):\n",
    "    with open(\"day2_input.txt\") as handle:\n",
    "        return sum(map(lambda pair: input_list.index(pair) + 1, map(lambda line: ''.join(line.strip().split()), handle.readlines())))"
   ]
  },
  {
   "cell_type": "code",
   "execution_count": 6,
   "metadata": {},
   "outputs": [
    {
     "name": "stdout",
     "output_type": "stream",
     "text": [
      "Part 1: 9759\n",
      "Part 2: 12429\n"
     ]
    }
   ],
   "source": [
    "if __name__ == \"__main__\":\n",
    "    print(f\"Part 1: {get_score(ordered_scores_part1)}\")\n",
    "    print(f\"Part 2: {get_score(ordered_scores_part2)}\")"
   ]
  }
 ],
 "metadata": {
  "kernelspec": {
   "display_name": "Python 3.10.6 64-bit",
   "language": "python",
   "name": "python3"
  },
  "language_info": {
   "codemirror_mode": {
    "name": "ipython",
    "version": 3
   },
   "file_extension": ".py",
   "mimetype": "text/x-python",
   "name": "python",
   "nbconvert_exporter": "python",
   "pygments_lexer": "ipython3",
   "version": "3.10.6"
  },
  "orig_nbformat": 4,
  "vscode": {
   "interpreter": {
    "hash": "916dbcbb3f70747c44a77c7bcd40155683ae19c65e1c03b4aa3499c5328201f1"
   }
  }
 },
 "nbformat": 4,
 "nbformat_minor": 2
}
